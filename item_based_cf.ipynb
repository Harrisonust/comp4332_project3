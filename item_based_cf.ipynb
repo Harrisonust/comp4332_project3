{
 "cells": [
  {
   "cell_type": "code",
   "execution_count": 70,
   "metadata": {},
   "outputs": [],
   "source": [
    "import numpy as np\n",
    "import pandas as pd\n",
    "\n",
    "from sklearn.metrics.pairwise import cosine_similarity"
   ]
  },
  {
   "cell_type": "code",
   "execution_count": 71,
   "metadata": {},
   "outputs": [
    {
     "name": "stdout",
     "output_type": "stream",
     "text": [
      "                  user_id             business_id  stars\n",
      "0  BG9EcvTb1xrsNNwW9_TV-Q  5PLTCfyndcWM44-yQH-YRg      4\n",
      "1  AJYhxhRRHlITRRpnpa6uRA  2ukJ2tNmtWfHvpGjYMgVnA      4\n",
      "2  d0FbFaZuJWfai0RYsUS7qw  LdK6Tqr9-QK8eNezCUes9A      5\n",
      "3  WYpPk2TiiTb7Fz0S5_ZPxQ  J1bG9ezYHMkzqV1yRsVtQQ      4\n",
      "4  X-rdf2BAcnhbfz8U0bRAWQ  6swZ2vF-r8TllIuB25eQCQ      5\n"
     ]
    }
   ],
   "source": [
    "train_df = pd.read_csv('data/train.csv')\n",
    "valid_df = pd.read_csv('data/valid.csv')\n",
    "print(train_df.head())"
   ]
  },
  {
   "cell_type": "code",
   "execution_count": 72,
   "metadata": {},
   "outputs": [],
   "source": [
    "user_item_rating_df = train_df.pivot_table(index='user_id', columns='business_id', values='stars', fill_value=0)"
   ]
  },
  {
   "cell_type": "code",
   "execution_count": 73,
   "metadata": {},
   "outputs": [],
   "source": [
    "item_similarity = pd.DataFrame(cosine_similarity(user_item_rating_df.T), index=user_item_rating_df.columns, columns=user_item_rating_df.columns)"
   ]
  },
  {
   "cell_type": "code",
   "execution_count": 74,
   "metadata": {},
   "outputs": [],
   "source": [
    "def predict_rating(df, user, item):\n",
    "    # if user not found or item not found, return 0\n",
    "    if user not in df.index or item not in df.columns:\n",
    "        return 0\n",
    "    \n",
    "    rated_items = df.loc[user, df.loc[user] > 0].index\n",
    "    similarities = item_similarity.loc[item, rated_items]\n",
    "    ratings = df.loc[user, rated_items]\n",
    "    \n",
    "    if similarities.sum() == 0:\n",
    "        return 0\n",
    "    prediction = (ratings * similarities).sum() / similarities.sum()\n",
    "    return prediction"
   ]
  },
  {
   "cell_type": "code",
   "execution_count": 75,
   "metadata": {},
   "outputs": [],
   "source": [
    "pred_df = pd.DataFrame(columns=['user_id', 'business_id', 'stars'])\n",
    "for index, row in valid_df.iterrows():\n",
    "    stars = predict_rating(user_item_rating_df, row['user_id'], row['business_id'])\n",
    "    pred_df = pd.concat([pred_df, pd.DataFrame([[row['user_id'], row['business_id'], stars]], columns=['user_id', 'business_id', 'stars'])])\n",
    "\n",
    "# save prediction\n",
    "pred_df.to_csv('valid_pred.csv', index=False)"
   ]
  },
  {
   "cell_type": "code",
   "execution_count": null,
   "metadata": {},
   "outputs": [],
   "source": []
  }
 ],
 "metadata": {
  "kernelspec": {
   "display_name": "comp4332",
   "language": "python",
   "name": "python3"
  },
  "language_info": {
   "codemirror_mode": {
    "name": "ipython",
    "version": 3
   },
   "file_extension": ".py",
   "mimetype": "text/x-python",
   "name": "python",
   "nbconvert_exporter": "python",
   "pygments_lexer": "ipython3",
   "version": "3.8.16"
  },
  "orig_nbformat": 4
 },
 "nbformat": 4,
 "nbformat_minor": 2
}
